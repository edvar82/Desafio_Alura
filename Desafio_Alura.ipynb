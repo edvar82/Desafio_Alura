{
  "cells": [
    {
      "cell_type": "markdown",
      "metadata": {
        "colab_type": "text",
        "id": "view-in-github"
      },
      "source": [
        "<a href=\"https://colab.research.google.com/github/edvar82/Desafio_Alura/blob/main/Desafio_Alura.ipynb\" target=\"_parent\"><img src=\"https://colab.research.google.com/assets/colab-badge.svg\" alt=\"Open In Colab\"/></a>"
      ]
    },
    {
      "cell_type": "markdown",
      "metadata": {
        "id": "aL64WJd2XGPY"
      },
      "source": [
        " # Instalação do pacote poppler-utils para manipulação de arquivos PDF e da lib para tratar pdfs"
      ]
    },
    {
      "cell_type": "code",
      "execution_count": null,
      "metadata": {
        "id": "Tbs3vIu6XVYf"
      },
      "outputs": [],
      "source": [
        "!apt-get install poppler-utils"
      ]
    },
    {
      "cell_type": "code",
      "execution_count": null,
      "metadata": {
        "id": "d_Kd1wtvXJ74"
      },
      "outputs": [],
      "source": [
        "!pip install pdf2image"
      ]
    },
    {
      "cell_type": "markdown",
      "metadata": {
        "id": "fhfdxmbIXbda"
      },
      "source": [
        "#Baixando os pdf's de exemplo"
      ]
    },
    {
      "cell_type": "code",
      "execution_count": null,
      "metadata": {
        "id": "0aRNcPDAWW19"
      },
      "outputs": [],
      "source": [
        "!git clone https://github.com/edvar82/Upload_pdfs.git"
      ]
    },
    {
      "cell_type": "markdown",
      "metadata": {
        "id": "nzOO7YktX7nW"
      },
      "source": [
        "# Algorítmo para fazer a extração de dados e salvar a planilha\n"
      ]
    },
    {
      "cell_type": "code",
      "execution_count": null,
      "metadata": {
        "id": "H8NGun8HYIL_"
      },
      "outputs": [],
      "source": [
        "import os\n",
        "import pandas as pd\n",
        "from pdf2image import convert_from_path\n",
        "import google.generativeai as genai\n",
        "from google.colab import userdata\n",
        "import time\n",
        "from PIL import Image\n",
        "\n",
        "API_KEY = userdata.get('API_KEY')\n",
        "genai.configure(api_key=API_KEY)\n",
        "\n",
        "def listar_pdfs(caminho_raiz):\n",
        "    for pasta, subpastas, arquivos in os.walk(caminho_raiz):\n",
        "        for arquivo in arquivos:\n",
        "            if arquivo.endswith('.pdf'):\n",
        "                caminho_completo = os.path.join(pasta, arquivo)\n",
        "                yield caminho_completo\n",
        "\n",
        "def extract_info_from_text(organized_text):\n",
        "    campos_desejados = [\n",
        "        'Nome', 'CPF', 'Ano/Série', 'Turma',\n",
        "        'Nome do Responsável', 'CPF do Responsável',\n",
        "        'Cidade e Data da Assinatura', 'Box marcado', 'NIS'\n",
        "    ]\n",
        "    extracted_info = {campo: '' for campo in campos_desejados}\n",
        "\n",
        "    lines = organized_text.split(\"\\n\")\n",
        "\n",
        "    for line in lines:\n",
        "        if line.strip():\n",
        "            parts = line.split(\":\", 1)\n",
        "            if len(parts) == 2:\n",
        "                key, value = parts[0].strip(), parts[1].strip()\n",
        "                if key in campos_desejados:\n",
        "                    extracted_info[key] = value\n",
        "\n",
        "    return extracted_info\n",
        "\n",
        "def salvar_xlsx(df, diretorio, nome_escola):\n",
        "    if not df.empty:\n",
        "        df = df.dropna(how='all')\n",
        "        xlsx_file_path = os.path.join(diretorio, f'{nome_escola}.xlsx')\n",
        "        df.to_excel(xlsx_file_path, index=False)\n",
        "        print(\"Informações extraídas da escola\", nome_escola, \"salvas em:\", xlsx_file_path)\n",
        "    else:\n",
        "        print(\"Nenhum PDF encontrado na pasta.\")\n",
        "\n",
        "prompt = \"\"\"\n",
        "Extraia as seguintes informações do texto:\n",
        "\n",
        "- Nome:\n",
        "- CPF:\n",
        "- Ano/Série:\n",
        "- Turma:\n",
        "- Nome do Responsável:\n",
        "- CPF do Responsável:\n",
        "- Cidade e Data da Assinatura:\n",
        "- Box marcado:\n",
        "- NIS:\n",
        "\n",
        "Forneça as informações no seguinte formato:\n",
        "\n",
        "Nome: [Nome completo]\n",
        "CPF: [Número de CPF]\n",
        "Ano/Série: [Ano ou série]\n",
        "Turma: [Número da turma]\n",
        "Nome do Responsável: [Nome completo do responsável]\n",
        "CPF do Responsável: [CPF do responsável]\n",
        "Cidade e Data da Assinatura: [Cidade], [Data no formato: DD de MMMM de AAAA]\n",
        "Box marcado: [Descrição do que está marcado no box]\n",
        "NIS: [Número do NIS]\n",
        "\n",
        "Forneça cada informação em uma linha separada.\n",
        "\"\"\"\n",
        "\n",
        "modelText = genai.GenerativeModel('gemini-pro')\n",
        "modelVision = genai.GenerativeModel('gemini-pro-vision')\n",
        "df_concatenado = pd.DataFrame()\n",
        "\n",
        "pdf_found = False\n",
        "\n",
        "for caminho_arquivo in listar_pdfs(\"/content/Upload_pdfs\"):\n",
        "\n",
        "    partes_caminho = caminho_arquivo.split(os.sep)\n",
        "\n",
        "    diretorio_escola = os.path.dirname(caminho_arquivo)\n",
        "    nome_escola = os.path.basename(diretorio_escola)\n",
        "\n",
        "    print(diretorio_escola, nome_escola)\n",
        "\n",
        "    escola_anterior = nome_escola\n",
        "    diretorio_escola_anterior = diretorio_escola\n",
        "\n",
        "    pdf_found = True\n",
        "\n",
        "    print(f\"Lendo arquivo: {caminho_arquivo}...\")\n",
        "    imagens = convert_from_path(caminho_arquivo)\n",
        "\n",
        "    partes_caminho = caminho_arquivo.split(os.sep)\n",
        "    escola = partes_caminho[-2]\n",
        "\n",
        "    for page_num, imagem in enumerate(imagens):\n",
        "        try:\n",
        "            responseImage =modelVision.generate_content([\n",
        "                                                        'Extraia as seguintes informações do texto:',\n",
        "                                                        '- Nome:',\n",
        "                                                        '- CPF:',\n",
        "                                                        '- Ano/Série:',\n",
        "                                                        '- Turma:',\n",
        "                                                        '- Nome do Responsável:',\n",
        "                                                        '- CPF do Responsável:',\n",
        "                                                        '- Cidade e Data da Assinatura:',\n",
        "                                                        '- Box marcado:',\n",
        "                                                        '- NIS:',\n",
        "                                                        'Forneça as informações no seguinte formato:',\n",
        "                                                        'Nome: [Nome completo]',\n",
        "                                                        'CPF: [Número de CPF]',\n",
        "                                                        'Ano/Série: [Ano ou série]',\n",
        "                                                        'Turma: [Número da turma]',\n",
        "                                                        'Nome do Responsável: [Nome completo do responsável]',\n",
        "                                                        'CPF do Responsável: [CPF do responsável]',\n",
        "                                                        'Cidade e Data da Assinatura: [Cidade], [Data no formato: DD de MMMM de AAAA]',\n",
        "                                                        'Box marcado: [Descrição do que está marcado no box]',\n",
        "                                                        'NIS: [Número do NIS]',\n",
        "                                                        'Forneça cada informação em uma linha separada.',\n",
        "                                                        'Dados que não podem faltar: NIS e CPF. Preciso dessas informações em todas as linhas.',\n",
        "                                                        imagem\n",
        "                                                    ])\n",
        "\n",
        "            response_parts = responseImage.parts\n",
        "            print(response_parts)\n",
        "            if response_parts:\n",
        "                text_parts = [part.text for part in response_parts if part.text]\n",
        "                print(text_parts)\n",
        "                response_text = '\\n'.join(text_parts)\n",
        "\n",
        "                response = modelText.generate_content([prompt, response_text])\n",
        "\n",
        "                extracted_info = extract_info_from_text(response.text)\n",
        "\n",
        "                df = pd.DataFrame([extracted_info])\n",
        "\n",
        "                df['Unidade escolar'] = escola\n",
        "\n",
        "                df_concatenado = pd.concat([df_concatenado, df], ignore_index=True)\n",
        "\n",
        "            else:\n",
        "                print(\"A resposta não contém partes válidas.\")\n",
        "\n",
        "        except Exception as e:\n",
        "            print(f\"Algo deu errado. Erro: {e}\")\n",
        "\n",
        "if pdf_found:\n",
        "    salvar_xlsx(df_concatenado, diretorio_escola_anterior, escola_anterior)\n",
        "else:\n",
        "    print(\"Nenhum PDF encontrado na pasta.\")\n"
      ]
    },
    {
      "cell_type": "markdown",
      "metadata": {},
      "source": [
        "Resultado a partir dos pdf's gerados: [Resultado](https://docs.google.com/spreadsheets/d/1WM4lLUmeO1W0njkc4IqfxaYFcKRVenACPuBSza9R36M/edit?usp=sharing)"
      ]
    }
  ],
  "metadata": {
    "colab": {
      "authorship_tag": "ABX9TyNYWHj6RsDFx3dIyXTu31IQ",
      "include_colab_link": true,
      "provenance": []
    },
    "kernelspec": {
      "display_name": "Python 3",
      "name": "python3"
    },
    "language_info": {
      "name": "python"
    }
  },
  "nbformat": 4,
  "nbformat_minor": 0
}
